{
 "cells": [
  {
   "cell_type": "markdown",
   "metadata": {},
   "source": [
    "## 目录"
   ]
  },
  {
   "cell_type": "markdown",
   "metadata": {},
   "source": [
    "### Task0:markdown、GitHub、jupyter notebook用法\n",
    "### Task1:显示（print）\n",
    "### Task2:数学运算；while循环\n",
    "### Task3:if语句；分隔符；\n",
    "### Task4:定义函数\n",
    "### Task5:编程规划；多行文本；random模块；math模块\n",
    "### Task6:序列list；for循环；format；字符转义\n",
    "### Task7:图形字符；序列切片；元组；id( )函数\n",
    "### Task8:文件读取及写入；字符处理；序列处理；random模块；打开文件模式\n",
    "### Task9:统计词频；"
   ]
  },
  {
   "cell_type": "markdown",
   "metadata": {},
   "source": [
    "## 常用运算符号"
   ]
  },
  {
   "cell_type": "code",
   "execution_count": 1,
   "metadata": {
    "collapsed": false
   },
   "outputs": [
    {
     "name": "stdout",
     "output_type": "stream",
     "text": [
      "10\n",
      "1.5\n",
      "81\n",
      "2.5\n",
      "125\n",
      "2\n",
      "1\n"
     ]
    }
   ],
   "source": [
    "print(4+6)      #运算符:'+'。功能：加法。结果：10\n",
    "print(3.5-2)    #运算符:'-'，功能：减法。结果：1.5\n",
    "print(9*9)      #运算符:'*'，功能：乘法。结果：81\n",
    "print(5/2)      #运算符:'/'，功能：除法。结果：2.5\n",
    "print(5**3)     #运算符:'**'，功能：乘幂。结果：125\n",
    "print(5//2)     #运算符:'//'，功能：整除(舍去小数部分)。结果：2\n",
    "print(7%3)      #运算符:'%'，功能：求余数(模)。结果：1"
   ]
  },
  {
   "cell_type": "markdown",
   "metadata": {},
   "source": [
    "## 比较符号"
   ]
  },
  {
   "cell_type": "code",
   "execution_count": 1,
   "metadata": {
    "collapsed": false
   },
   "outputs": [
    {
     "name": "stdout",
     "output_type": "stream",
     "text": [
      "True\n",
      "False\n",
      "True\n",
      "False\n",
      "False\n",
      "True\n"
     ]
    }
   ],
   "source": [
    "print(10 == 10)       #运算符：'=='。说明：等于。表达式值：True\n",
    "print(10 != 10)       #运算符：'!='。说明：不等于。表达式值：False\n",
    "print(10 > 5.1)       #运算符：'>'。说明：大于。表达式值：True\n",
    "print(10.2 < 5)       #运算符：'<'。说明：小于。表达式值：False\n",
    "print(5 >= 10)        #运算符：'>='。说明：大于等于。表达式值：False\n",
    "print(5 <= 10)        #运算符：'<='。说明：小于等于。表达式值：True"
   ]
  },
  {
   "cell_type": "markdown",
   "metadata": {},
   "source": [
    "## 分隔符"
   ]
  },
  {
   "cell_type": "code",
   "execution_count": 2,
   "metadata": {
    "collapsed": false
   },
   "outputs": [
    {
     "name": "stdout",
     "output_type": "stream",
     "text": [
      "多个参数 5 69 1.0\n",
      "多个参数  5  69  1.0\n",
      "多个参数,5,69,1.0\n",
      "多个参数 5 69 1.0\n",
      "多个参数 ,5 ,69 ,1.0\n",
      "多个参数5691.0\n"
     ]
    }
   ],
   "source": [
    "print('多个参数', 5, 4078%211, 407.8//211)\n",
    "print('多个参数', 5, 4078%211, 407.8//211, sep = '  ')\n",
    "print('多个参数', 5, 4078%211, 407.8//211, sep = ',')\n",
    "print('多个参数', 5, 4078%211, 407.8//211, sep = ' ')\n",
    "print('多个参数', 5, 4078%211, 407.8//211, sep = ' ,')\n",
    "print('多个参数', 5, 4078%211, 407.8//211, sep = '')"
   ]
  },
  {
   "cell_type": "markdown",
   "metadata": {},
   "source": [
    "## 常用math模块"
   ]
  },
  {
   "cell_type": "markdown",
   "metadata": {},
   "source": [
    "几个常用的函数如下：\n",
    "math.ceil(x)\n",
    "Return the ceiling of x, the smallest integer greater than or equal to x.\n",
    "math.floor(x)\n",
    "Return the floor of x, the largest integer less than or equal to x.\n",
    "math.exp(x)\n",
    "Return e**x\n",
    "math.log(x[, base])\n",
    "With one argument, return the natural logarithm of x (to base e).\n",
    "With two arguments, return the logarithm of x to the given base.\n",
    "math.log2(x)\n",
    "Return the base-2 logarithm of x. This is usually more accurate than log(x, 2).\n",
    "math.log10(x)\n",
    "Return the base-10 logarithm of x. This is usually more accurate than log(x, 10).\n",
    "math.sqrt(x)\n",
    "Return the square root of x.\n",
    "math.sin(x)\n",
    "Return the sine of x radians.\n",
    "math.cos(x)\n",
    "Return the cosine of x radians.\n"
   ]
  },
  {
   "cell_type": "markdown",
   "metadata": {},
   "source": [
    "## 改变字符串格式"
   ]
  },
  {
   "cell_type": "code",
   "execution_count": 4,
   "metadata": {
    "collapsed": false
   },
   "outputs": [
    {
     "name": "stdout",
     "output_type": "stream",
     "text": [
      "a=0,b=1,c=2\n",
      "a=1,b=0,c=2\n",
      "----------分隔符-------------\n",
      " 20,200\n",
      "200, 20\n"
     ]
    }
   ],
   "source": [
    "print('a={0},b={1},c={2}'.format(0,1,2))\n",
    "print('a={1},b={0},c={2}'.format(0,1,2))\n",
    "print('----------分隔符-------------')\n",
    "# 基本用法 2：\n",
    "n=20\n",
    "print('{:3},{:3}'.format(n,10*n))\n",
    "print('{:3},{:3}'.format(10*n,n))"
   ]
  },
  {
   "cell_type": "markdown",
   "metadata": {
    "collapsed": true
   },
   "source": [
    "## 序列切片"
   ]
  },
  {
   "cell_type": "code",
   "execution_count": 1,
   "metadata": {
    "collapsed": false
   },
   "outputs": [
    {
     "name": "stdout",
     "output_type": "stream",
     "text": [
      "语言大学\n",
      "语大信\n",
      "科信大语\n",
      "---------------分割线---------------\n",
      "北京语言大学\n",
      "北京语言大学\n",
      "信息科学学院\n",
      "信息科学学院\n",
      "北京语言大学信息科学学院\n",
      "北语大信科学\n",
      "---------------分割线---------------\n",
      "息科学\n",
      "北京语言言语京北\n"
     ]
    }
   ],
   "source": [
    "line = '北京语言大学信息科学学院'\n",
    "\n",
    "print(line[2:6])\n",
    "print(line[2:8:2])\n",
    "print(line[8:1:-2])\n",
    "\n",
    "print('-'*15 + '分割线' + '-'*15)\n",
    "\n",
    "print(line[0:6])\n",
    "print(line[:6])\n",
    "print(line[6:12])\n",
    "print(line[6:])\n",
    "print(line[:])\n",
    "print(line[::2])\n",
    "\n",
    "print('-'*15 + '分割线' + '-'*15)\n",
    "\n",
    "print(line[-5:-2])\n",
    "print(line[0:4] + line[3::-1])"
   ]
  },
  {
   "cell_type": "markdown",
   "metadata": {},
   "source": [
    "## 字符处理"
   ]
  },
  {
   "cell_type": "code",
   "execution_count": 3,
   "metadata": {
    "collapsed": false
   },
   "outputs": [
    {
     "ename": "NameError",
     "evalue": "name 'replace' is not defined",
     "output_type": "error",
     "traceback": [
      "\u001b[0;31m---------------------------------------------------------------------------\u001b[0m",
      "\u001b[0;31mNameError\u001b[0m                                 Traceback (most recent call last)",
      "\u001b[0;32m<ipython-input-3-0b02d6e335cc>\u001b[0m in \u001b[0;36m<module>\u001b[0;34m()\u001b[0m\n\u001b[0;32m----> 1\u001b[0;31m \u001b[0mreplace\u001b[0m\u001b[0;34m(\u001b[0m\u001b[0;34m)\u001b[0m \u001b[0;31m#替换字符；字符串.replace(old_str, new_str)\u001b[0m\u001b[0;34m\u001b[0m\u001b[0m\n\u001b[0m\u001b[1;32m      2\u001b[0m \u001b[0msplit\u001b[0m\u001b[0;34m(\u001b[0m\u001b[0;34m)\u001b[0m \u001b[0;31m#将字符按照分隔符分开；字符串.split(sep)\u001b[0m\u001b[0;34m\u001b[0m\u001b[0m\n\u001b[1;32m      3\u001b[0m \u001b[0mwrite\u001b[0m\u001b[0;34m(\u001b[0m\u001b[0;34m)\u001b[0m \u001b[0;31m#向文件写入字符串;文件对象.write(str)\u001b[0m\u001b[0;34m\u001b[0m\u001b[0m\n",
      "\u001b[0;31mNameError\u001b[0m: name 'replace' is not defined"
     ]
    }
   ],
   "source": [
    "replace() #替换字符；字符串.replace(old_str, new_str)\n",
    "split() #将字符按照分隔符分开；字符串.split(sep)\n",
    "write() #向文件写入字符串;文件对象.write(str)"
   ]
  },
  {
   "cell_type": "markdown",
   "metadata": {},
   "source": [
    "## 序列处理"
   ]
  },
  {
   "cell_type": "code",
   "execution_count": null,
   "metadata": {
    "collapsed": true
   },
   "outputs": [],
   "source": [
    "str.join(...) #将序列内所有元素之间均用str进行连接的方法;分隔字符串.join(...)\n",
    "choice() #在序列随机抽取对象；random.choice(seq)\n",
    "shuffle(...) #random模块中的随机打乱序列内部对象顺序；random.shuffle(序列)\n",
    "permutations(..., int) #得到序列全排列的函数，第一个参数是序列，第二个参数是取第一个序列中多少个元素来做全排列,该函数在itertools模块中，需要提前import"
   ]
  },
  {
   "cell_type": "markdown",
   "metadata": {},
   "source": [
    "## 统计"
   ]
  },
  {
   "cell_type": "code",
   "execution_count": null,
   "metadata": {
    "collapsed": true
   },
   "outputs": [],
   "source": []
  }
 ],
 "metadata": {
  "kernelspec": {
   "display_name": "Python 3",
   "language": "python",
   "name": "python3"
  },
  "language_info": {
   "codemirror_mode": {
    "name": "ipython",
    "version": 3
   },
   "file_extension": ".py",
   "mimetype": "text/x-python",
   "name": "python",
   "nbconvert_exporter": "python",
   "pygments_lexer": "ipython3",
   "version": "3.6.0"
  }
 },
 "nbformat": 4,
 "nbformat_minor": 2
}
